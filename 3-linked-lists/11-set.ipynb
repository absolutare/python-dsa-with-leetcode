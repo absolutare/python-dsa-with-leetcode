{
 "cells": [
  {
   "cell_type": "code",
   "execution_count": 9,
   "metadata": {},
   "outputs": [],
   "source": [
    "class Node:\n",
    "    def __init__(self, value):\n",
    "        self.value = value\n",
    "        self.next = None"
   ]
  },
  {
   "cell_type": "code",
   "execution_count": 10,
   "metadata": {},
   "outputs": [],
   "source": [
    "class LinkedList:\n",
    "    def __init__(self, value=None):\n",
    "        # initialize LinkedList and create a Node\n",
    "        new_node = Node(value)\n",
    "        if new_node.value is not None:\n",
    "            self.head = new_node\n",
    "            self.tail = new_node\n",
    "            self.length = 1\n",
    "        else:\n",
    "            self.length = 0\n",
    "\n",
    "    def print_list(self):\n",
    "        temp = self.head\n",
    "        while temp is not None:\n",
    "            print(temp.value)\n",
    "            temp = temp.next\n",
    "\n",
    "    def append(self, value):  # O(1)\n",
    "        new_node = Node(value)\n",
    "        if self.head is None:\n",
    "            # if LinkedList is empty\n",
    "            self.head = new_node\n",
    "            self.tail = new_node\n",
    "        else:\n",
    "            self.tail.next = new_node\n",
    "            self.tail = new_node\n",
    "        self.length += 1\n",
    "        return True\n",
    "\n",
    "    def pop(self):  # O(n)\n",
    "        # we check if there is no item in the LinkedList\n",
    "        if self.length == 0:\n",
    "            return None\n",
    "        # if there is more than one item in the LinkedList\n",
    "        temp = self.head\n",
    "        pre = self.head\n",
    "        while temp.next:\n",
    "            pre = temp\n",
    "            temp = temp.next\n",
    "        self.tail = pre\n",
    "        self.tail.next = None\n",
    "        self.length -= 1\n",
    "        # if there is originally just one item and we already decremented, the length is now 0\n",
    "        if self.length == 0:\n",
    "            self.head = None\n",
    "            self.tail = None\n",
    "        print(temp.value)\n",
    "        return temp  # the popped LinkedList item at the end\n",
    "\n",
    "    def prepend(self, value):  # O(1)\n",
    "        new_node = Node(value)\n",
    "        if self.length == 0:  # check first if linkedlist is empty\n",
    "            self.head = new_node\n",
    "            self.tail = new_node\n",
    "        else:\n",
    "            new_node.next = self.head\n",
    "            self.head = new_node\n",
    "        self.length += 1\n",
    "        return True\n",
    "\n",
    "    def pop_first(self):  # O(1)\n",
    "        if self.length == 0:  # check first if linkedlist is empty\n",
    "            return None\n",
    "\n",
    "        temp = self.head\n",
    "        self.head = self.head.next\n",
    "        temp.next = None\n",
    "        self.length -= 1\n",
    "        # if there is originally just one item and we already decremented, the length is now 0\n",
    "        if self.length == 0:\n",
    "            self.tail = None  # set it to None because it is the only one remaining pointing to the item\n",
    "        print(temp.value)\n",
    "        return temp  # the popped LinkedList item at the beginning\n",
    "    \n",
    "    def get(self, index):\n",
    "        if index >= self.length: # check if index is out of bounds\n",
    "            return None\n",
    "        elif index > 0 and index < self.length: # check if index is greater than 0 but less than self.length\n",
    "            temp = self.head\n",
    "            for _ in range(index):\n",
    "                temp = temp.next\n",
    "        else: # if index is less than 0\n",
    "            negative_index = self.length + index\n",
    "            temp = self.head\n",
    "            for _ in range(negative_index):\n",
    "                temp = temp.next\n",
    "        return temp.value\n",
    "    \n",
    "    def set_value(self, index, value):\n",
    "        if index >= self.length: # check if index is out of bounds\n",
    "            raise IndexError(\"Index out of bounds\")\n",
    "        elif index > 0 and index < self.length: # check if index is greater than 0 but less than self.length\n",
    "            temp = self.head\n",
    "            for _ in range(index):\n",
    "                temp = temp.next\n",
    "        else: # if index is less than 0, (index) = length + index where index is negative \n",
    "            negative_index = self.length + index\n",
    "            if negative_index < 0:\n",
    "                raise IndexError(\"Index out of bounds\")\n",
    "            else:\n",
    "                temp = self.head\n",
    "                for _ in range(negative_index):\n",
    "                    temp = temp.next\n",
    "        temp.value = value\n",
    "\n",
    "        self.print_list()"
   ]
  },
  {
   "cell_type": "code",
   "execution_count": 11,
   "metadata": {},
   "outputs": [
    {
     "data": {
      "text/plain": [
       "True"
      ]
     },
     "execution_count": 11,
     "metadata": {},
     "output_type": "execute_result"
    }
   ],
   "source": [
    "my_linked_list = LinkedList(0)\n",
    "my_linked_list.append(1)\n",
    "my_linked_list.append(2)\n",
    "my_linked_list.append(3)"
   ]
  },
  {
   "cell_type": "code",
   "execution_count": 12,
   "metadata": {},
   "outputs": [
    {
     "data": {
      "text/plain": [
       "1"
      ]
     },
     "execution_count": 12,
     "metadata": {},
     "output_type": "execute_result"
    }
   ],
   "source": [
    "my_linked_list.get(1)"
   ]
  },
  {
   "cell_type": "code",
   "execution_count": 13,
   "metadata": {},
   "outputs": [
    {
     "name": "stdout",
     "output_type": "stream",
     "text": [
      "0\n",
      "1\n",
      "2\n",
      "3\n"
     ]
    }
   ],
   "source": [
    "my_linked_list.print_list()"
   ]
  },
  {
   "cell_type": "code",
   "execution_count": 14,
   "metadata": {},
   "outputs": [
    {
     "name": "stdout",
     "output_type": "stream",
     "text": [
      "0\n",
      "1\n",
      "4\n",
      "3\n"
     ]
    }
   ],
   "source": [
    "my_linked_list.set_value(2, 4)"
   ]
  },
  {
   "cell_type": "code",
   "execution_count": 15,
   "metadata": {},
   "outputs": [
    {
     "name": "stdout",
     "output_type": "stream",
     "text": [
      "0\n",
      "1\n",
      "4\n",
      "5\n"
     ]
    }
   ],
   "source": [
    "my_linked_list.set_value(-1, 5)"
   ]
  },
  {
   "cell_type": "code",
   "execution_count": 16,
   "metadata": {},
   "outputs": [
    {
     "ename": "IndexError",
     "evalue": "Index out of bounds",
     "output_type": "error",
     "traceback": [
      "\u001b[1;31m---------------------------------------------------------------------------\u001b[0m",
      "\u001b[1;31mIndexError\u001b[0m                                Traceback (most recent call last)",
      "Cell \u001b[1;32mIn[16], line 1\u001b[0m\n\u001b[1;32m----> 1\u001b[0m my_linked_list\u001b[39m.\u001b[39;49mset_value(\u001b[39m-\u001b[39;49m\u001b[39m5\u001b[39;49m, \u001b[39m10\u001b[39;49m)\n",
      "Cell \u001b[1;32mIn[10], line 99\u001b[0m, in \u001b[0;36mLinkedList.set_value\u001b[1;34m(self, index, value)\u001b[0m\n\u001b[0;32m     97\u001b[0m negative_index \u001b[39m=\u001b[39m \u001b[39mself\u001b[39m\u001b[39m.\u001b[39mlength \u001b[39m+\u001b[39m index\n\u001b[0;32m     98\u001b[0m \u001b[39mif\u001b[39;00m negative_index \u001b[39m<\u001b[39m \u001b[39m0\u001b[39m:\n\u001b[1;32m---> 99\u001b[0m     \u001b[39mraise\u001b[39;00m \u001b[39mIndexError\u001b[39;00m(\u001b[39m\"\u001b[39m\u001b[39mIndex out of bounds\u001b[39m\u001b[39m\"\u001b[39m)\n\u001b[0;32m    100\u001b[0m \u001b[39melse\u001b[39;00m:\n\u001b[0;32m    101\u001b[0m     temp \u001b[39m=\u001b[39m \u001b[39mself\u001b[39m\u001b[39m.\u001b[39mhead\n",
      "\u001b[1;31mIndexError\u001b[0m: Index out of bounds"
     ]
    }
   ],
   "source": [
    "my_linked_list.set_value(-5, 10)"
   ]
  },
  {
   "cell_type": "markdown",
   "metadata": {},
   "source": [
    "#### **End.Thank you!**"
   ]
  }
 ],
 "metadata": {
  "kernelspec": {
   "display_name": "Python 3",
   "language": "python",
   "name": "python3"
  },
  "language_info": {
   "codemirror_mode": {
    "name": "ipython",
    "version": 3
   },
   "file_extension": ".py",
   "mimetype": "text/x-python",
   "name": "python",
   "nbconvert_exporter": "python",
   "pygments_lexer": "ipython3",
   "version": "3.9.13"
  },
  "orig_nbformat": 4
 },
 "nbformat": 4,
 "nbformat_minor": 2
}
