{
 "cells": [
  {
   "cell_type": "markdown",
   "metadata": {},
   "source": [
    "#### **Big O**\n",
    "\n",
    "**Time Complexity**\n",
    "\n",
    "- is not measured in time, but rather in the number of operations to complete something\n",
    "\n",
    "**Space Complexity**\n",
    "\n",
    "- is measured through the memory space used up by a program or a piece of code\n",
    "\n",
    "**Three Greek Letters used for measuring Complexity**\n",
    "\n",
    "$ \\Omega $ - best case scenario\n",
    "\n",
    "$ \\theta $ - average case scenario\n",
    "\n",
    "$ \\Omicron $ - worst case scenario\n",
    "\n",
    "But when we talk about Big O,  we are **ALWAYS** talking about $ \\Omicron $.\n",
    "\n",
    "![big-o-graph.png](./images/big-o-graph.png)"
   ]
  },
  {
   "cell_type": "markdown",
   "metadata": {},
   "source": [
    "#### **$ \\Omicron(n) $**\n",
    "\n",
    "A code is running ***n*** operations. It is **proportional** - it means **n** is proportional to the number of operations."
   ]
  },
  {
   "cell_type": "code",
   "execution_count": 1,
   "metadata": {},
   "outputs": [
    {
     "name": "stdout",
     "output_type": "stream",
     "text": [
      "0\n",
      "1\n",
      "2\n"
     ]
    }
   ],
   "source": [
    "def print_items(n):\n",
    "    for i in range(n):\n",
    "        print(i)\n",
    "\n",
    "print_items(3)"
   ]
  },
  {
   "cell_type": "markdown",
   "metadata": {},
   "source": [
    "#### **$ \\Omicron(n) $ Drop Constants**"
   ]
  },
  {
   "cell_type": "markdown",
   "metadata": {},
   "source": [
    "The code below run ***n*** plus ***n*** times, which can be sum up as $\\Omicron(2n)$. But we drop the constant, and we just write it as $\\Omicron(n)$. "
   ]
  },
  {
   "cell_type": "code",
   "execution_count": 3,
   "metadata": {},
   "outputs": [
    {
     "name": "stdout",
     "output_type": "stream",
     "text": [
      "i: 0\n",
      "i: 1\n",
      "i: 2\n",
      "j: 0\n",
      "j: 1\n",
      "j: 2\n"
     ]
    }
   ],
   "source": [
    "def print_items(n):\n",
    "\n",
    "    for i in range(n):\n",
    "        print(f\"i: {i}\")\n",
    "    \n",
    "    for j in range(n):\n",
    "        print(f\"j: {j}\")\n",
    "\n",
    "print_items(3)"
   ]
  },
  {
   "cell_type": "markdown",
   "metadata": {},
   "source": [
    "#### **$ \\Omicron(n^{2}) $**\n",
    "\n",
    "We got ***n x n*** operations, which makes it a lot less efficient than $ \\Omicron $. It is pictured as a **loop within a loop**."
   ]
  },
  {
   "cell_type": "code",
   "execution_count": 4,
   "metadata": {},
   "outputs": [
    {
     "name": "stdout",
     "output_type": "stream",
     "text": [
      "i: 0, j: 0\n",
      "i: 0, j: 1\n",
      "i: 0, j: 2\n",
      "i: 1, j: 0\n",
      "i: 1, j: 1\n",
      "i: 1, j: 2\n",
      "i: 2, j: 0\n",
      "i: 2, j: 1\n",
      "i: 2, j: 2\n"
     ]
    }
   ],
   "source": [
    "def print_items(n):\n",
    "\n",
    "    for i in range(n):\n",
    "        for j in range(n):\n",
    "            print(f\"i: {i}, j: {j}\")\n",
    "\n",
    "print_items(3)"
   ]
  },
  {
   "cell_type": "markdown",
   "metadata": {},
   "source": [
    "#### **Drop non-dominants**\n",
    "\n",
    "The function below is in the order of $\\Omicron(n^{2} + n) $. But when n is scaled to a larger value, $n^{2}$ will be a lot more significant than $n$. The standalone $n$ will only occcupy a small fraction of the number of operations. Thus, $n^{2}$ is the dominant term, and the $n$ is the non-dominant term. And we drop it."
   ]
  },
  {
   "cell_type": "code",
   "execution_count": 5,
   "metadata": {},
   "outputs": [
    {
     "name": "stdout",
     "output_type": "stream",
     "text": [
      "i: 0, j: 0\n",
      "i: 0, j: 1\n",
      "i: 0, j: 2\n",
      "i: 1, j: 0\n",
      "i: 1, j: 1\n",
      "i: 1, j: 2\n",
      "i: 2, j: 0\n",
      "i: 2, j: 1\n",
      "i: 2, j: 2\n",
      "k: 0\n",
      "k: 1\n",
      "k: 2\n"
     ]
    }
   ],
   "source": [
    "def print_items(n):\n",
    "\n",
    "    for i in range(n):\n",
    "        for j in range(n):\n",
    "            print(f\"i: {i}, j: {j}\")\n",
    "    \n",
    "    for k in range(n):\n",
    "        print(f\"k: {k}\")\n",
    "\n",
    "print_items(3)"
   ]
  },
  {
   "cell_type": "markdown",
   "metadata": {},
   "source": [
    "#### **$\\Omicron(1)$**\n",
    "\n",
    "$\\Omicron(1)$ is also called ***constant time***. It means that as $n$ increases, the number of operations will remain constant. It's the most efficient $\\Omicron$."
   ]
  },
  {
   "cell_type": "code",
   "execution_count": null,
   "metadata": {},
   "outputs": [],
   "source": [
    "def add_items(n):\n",
    "    return n + n + n"
   ]
  },
  {
   "cell_type": "markdown",
   "metadata": {},
   "source": [
    "#### **$\\Omicron(log(n))$**\n",
    "\n",
    "$\\Omicron(log(n))$ is also called **half-life** or **divide and conquer**. $log(n)$ describes the number of operations needed to search something from $n$ sorted numbers, by continuously dividing the list of numbers until you arrive at the number you are searching for.\n"
   ]
  },
  {
   "cell_type": "markdown",
   "metadata": {},
   "source": [
    "#### **$\\Omicron(nlog(n))$**\n",
    "\n",
    "![n-log-n.png](./images/n-log-n.png)\n",
    "\n",
    "It is used in some of sorting algorithms like merge sort and quick sort. This is the most efficient you can make for a sorting algorithm. There are sorting algorithms that can sort just numbers which are on a more efficient $\\Omicron$, but if we are going various types of data such as strings, this is the most efficient you can make for a sorting algorithm."
   ]
  },
  {
   "cell_type": "markdown",
   "metadata": {},
   "source": [
    "#### **Different terms for inputs**"
   ]
  },
  {
   "cell_type": "code",
   "execution_count": 7,
   "metadata": {},
   "outputs": [
    {
     "name": "stdout",
     "output_type": "stream",
     "text": [
      "i: 0\n",
      "i: 1\n",
      "i: 2\n",
      "j: 0\n",
      "j: 1\n",
      "j: 2\n",
      "j: 3\n"
     ]
    }
   ],
   "source": [
    "def print_items(a, b):\n",
    "\n",
    "    for i in range(a):\n",
    "        print(f\"i: {i}\")\n",
    "    \n",
    "    for j in range(b):\n",
    "        print(f\"j: {j}\")\n",
    "\n",
    "print_items(3, 4)"
   ]
  },
  {
   "cell_type": "markdown",
   "metadata": {},
   "source": [
    "You just can't say that the function above is in the order of $ \\Omicron(n)$, because $a$ and $b$ can be different. So, the above function is in the order of $ \\Omicron(a + b)$, and this is as short as you can state it."
   ]
  },
  {
   "cell_type": "code",
   "execution_count": 8,
   "metadata": {},
   "outputs": [
    {
     "name": "stdout",
     "output_type": "stream",
     "text": [
      "i: 0, j: 0\n",
      "i: 0, j: 1\n",
      "i: 0, j: 2\n",
      "i: 0, j: 3\n",
      "i: 1, j: 0\n",
      "i: 1, j: 1\n",
      "i: 1, j: 2\n",
      "i: 1, j: 3\n",
      "i: 2, j: 0\n",
      "i: 2, j: 1\n",
      "i: 2, j: 2\n",
      "i: 2, j: 3\n"
     ]
    }
   ],
   "source": [
    "def print_items(a,b):\n",
    "\n",
    "    for i in range(a):\n",
    "        for j in range(b):\n",
    "            print(f\"i: {i}, j: {j}\")\n",
    "\n",
    "print_items(3, 4)"
   ]
  },
  {
   "cell_type": "markdown",
   "metadata": {},
   "source": [
    "Similarly, if you have nested for-loops, it is not automatically in the order of $ \\Omicron(n^{2}) $. Just like for our function above, it is in the order of $ \\Omicron(a * b) $."
   ]
  },
  {
   "cell_type": "markdown",
   "metadata": {},
   "source": [
    "#### **Lists**"
   ]
  },
  {
   "cell_type": "code",
   "execution_count": 9,
   "metadata": {},
   "outputs": [],
   "source": [
    "my_list = [11, 3, 23, 7]"
   ]
  },
  {
   "cell_type": "markdown",
   "metadata": {},
   "source": [
    "$ \\Omicron(1) $\n",
    "\n",
    "No reindexing needed. We only add or remove at the end."
   ]
  },
  {
   "cell_type": "code",
   "execution_count": 10,
   "metadata": {},
   "outputs": [],
   "source": [
    "my_list.append(17)"
   ]
  },
  {
   "cell_type": "code",
   "execution_count": 12,
   "metadata": {},
   "outputs": [
    {
     "data": {
      "text/plain": [
       "17"
      ]
     },
     "execution_count": 12,
     "metadata": {},
     "output_type": "execute_result"
    }
   ],
   "source": [
    "my_list.pop()"
   ]
  },
  {
   "cell_type": "markdown",
   "metadata": {},
   "source": [
    "$ \\Omicron(n) $\n",
    "\n",
    "If we want to remove or insert at the start of the list, reindexing is needed for the rest of the list. And it is in the order of $ \\Omicron(n) $, where $n$ is the number of items in the list."
   ]
  },
  {
   "cell_type": "code",
   "execution_count": 13,
   "metadata": {},
   "outputs": [
    {
     "data": {
      "text/plain": [
       "11"
      ]
     },
     "execution_count": 13,
     "metadata": {},
     "output_type": "execute_result"
    }
   ],
   "source": [
    "my_list.pop(0)"
   ]
  },
  {
   "cell_type": "code",
   "execution_count": 14,
   "metadata": {},
   "outputs": [],
   "source": [
    "my_list.insert(0, 11)"
   ]
  },
  {
   "cell_type": "markdown",
   "metadata": {},
   "source": [
    "$ \\Omicron(n) $\n",
    "\n",
    "Inserting an item in the middle of a list, we need to do reindexing too. Therefore, it is still $ \\Omicron(n) $. It is not $ \\Omicron(0.5 n) $, because we drop constants."
   ]
  },
  {
   "cell_type": "code",
   "execution_count": 15,
   "metadata": {},
   "outputs": [],
   "source": [
    "my_list.insert(1, \"Hi\")"
   ]
  },
  {
   "cell_type": "markdown",
   "metadata": {},
   "source": [
    "$ \\Omicron(n) $\n",
    "\n",
    "Searching for an item **based on value** is in the order of $ \\Omicron(n) $. We have to iterate over the items on the list in order to find the particular item."
   ]
  },
  {
   "cell_type": "markdown",
   "metadata": {},
   "source": [
    "$ \\Omicron(1) $\n",
    "\n",
    "Searching for an item **based on index** in the is in the order of $ \\Omicron(1) $. You can go directly to that place in memory based on the index."
   ]
  },
  {
   "cell_type": "markdown",
   "metadata": {},
   "source": [
    "![complexity-chart.png](./images/complexity-chart.png)\n",
    "\n",
    "![common-data-structure-operations.png](./images/common-data-structure-operations.png)\n",
    "\n",
    "![array-sorting-algorithms.png](./images/array-sorting-algorithms.png)"
   ]
  },
  {
   "cell_type": "markdown",
   "metadata": {},
   "source": [
    "#### **End. Thank you!**"
   ]
  }
 ],
 "metadata": {
  "kernelspec": {
   "display_name": "Python 3",
   "language": "python",
   "name": "python3"
  },
  "language_info": {
   "codemirror_mode": {
    "name": "ipython",
    "version": 3
   },
   "file_extension": ".py",
   "mimetype": "text/x-python",
   "name": "python",
   "nbconvert_exporter": "python",
   "pygments_lexer": "ipython3",
   "version": "3.9.13"
  },
  "orig_nbformat": 4
 },
 "nbformat": 4,
 "nbformat_minor": 2
}
