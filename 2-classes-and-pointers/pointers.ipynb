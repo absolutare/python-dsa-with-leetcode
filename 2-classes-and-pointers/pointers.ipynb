{
 "cells": [
  {
   "cell_type": "markdown",
   "metadata": {},
   "source": [
    "#### **Pointers**"
   ]
  },
  {
   "cell_type": "code",
   "execution_count": 2,
   "metadata": {},
   "outputs": [
    {
     "name": "stdout",
     "output_type": "stream",
     "text": [
      "Before num_two is updated\n",
      "num_one = 11\n",
      "num_two = 11\n",
      "num_one points to: 2762829884016\n",
      "num_two points to: 2762829884016\n"
     ]
    }
   ],
   "source": [
    "num_one = 11\n",
    "\n",
    "num_two = num_one\n",
    "\n",
    "print(\"Before num_two is updated\")\n",
    "print(f\"num_one = {num_one}\")\n",
    "print(f\"num_two = {num_two}\")\n",
    "\n",
    "print(f\"num_one points to: {id(num_one)}\")\n",
    "print(f\"num_two points to: {id(num_two)}\")"
   ]
  },
  {
   "cell_type": "markdown",
   "metadata": {},
   "source": [
    "`num_one` and `num_two` are pointing to the exact same address."
   ]
  },
  {
   "cell_type": "code",
   "execution_count": 5,
   "metadata": {},
   "outputs": [
    {
     "name": "stdout",
     "output_type": "stream",
     "text": [
      "After num_two is updated\n",
      "num_one = 11\n",
      "num_two = 22\n",
      "num_one points to: 2762829884016\n",
      "num_two points to: 2762829884368\n"
     ]
    }
   ],
   "source": [
    "num_two = 22\n",
    "\n",
    "print(\"After num_two is updated\")\n",
    "print(f\"num_one = {num_one}\")\n",
    "print(f\"num_two = {num_two}\")\n",
    "\n",
    "print(f\"num_one points to: {id(num_one)}\")\n",
    "print(f\"num_two points to: {id(num_two)}\")"
   ]
  },
  {
   "cell_type": "markdown",
   "metadata": {},
   "source": [
    "`num_two` is now pointing to another address in memory, but `num_one` is not affected and is still pointing to the same address as earlier.\n",
    "\n",
    "Integers are immutable. Once you created it, it will not be changed."
   ]
  },
  {
   "cell_type": "code",
   "execution_count": 7,
   "metadata": {},
   "outputs": [],
   "source": [
    "dict_one = {\"value\": 11}\n",
    "dict_two = dict_one"
   ]
  },
  {
   "cell_type": "markdown",
   "metadata": {},
   "source": [
    "Both `dict_one` and `dict_two` are pointing towards the same dictionary in memory."
   ]
  },
  {
   "cell_type": "code",
   "execution_count": 8,
   "metadata": {},
   "outputs": [
    {
     "name": "stdout",
     "output_type": "stream",
     "text": [
      "Before dict_two is updated\n",
      "dict_one = {'value': 11}\n",
      "dict_two = {'value': 11}\n",
      "dict_one points to: 2762908905088\n",
      "dict_two points to: 2762908905088\n"
     ]
    }
   ],
   "source": [
    "print(\"Before dict_two is updated\")\n",
    "print(f\"dict_one = {dict_one}\")\n",
    "print(f\"dict_two = {dict_two}\")\n",
    "\n",
    "print(f\"dict_one points to: {id(dict_one)}\")\n",
    "print(f\"dict_two points to: {id(dict_two)}\")"
   ]
  },
  {
   "cell_type": "code",
   "execution_count": 10,
   "metadata": {},
   "outputs": [
    {
     "name": "stdout",
     "output_type": "stream",
     "text": [
      "After dict_two is updated\n",
      "dict_one = {'value': 22}\n",
      "dict_two = {'value': 22}\n",
      "dict_one points to: 2762908905088\n",
      "dict_two points to: 2762908905088\n"
     ]
    }
   ],
   "source": [
    "dict_two['value'] = 22\n",
    "\n",
    "print(\"After dict_two is updated\")\n",
    "print(f\"dict_one = {dict_one}\")\n",
    "print(f\"dict_two = {dict_two}\")\n",
    "\n",
    "print(f\"dict_one points to: {id(dict_one)}\")\n",
    "print(f\"dict_two points to: {id(dict_two)}\")"
   ]
  },
  {
   "cell_type": "markdown",
   "metadata": {},
   "source": [
    "With dictionaries, we can change the values of it. They are considered **mutable\". Once we change something in it, we are still referring to the same dictionary somewhere it was located initially in memory."
   ]
  },
  {
   "cell_type": "code",
   "execution_count": 11,
   "metadata": {},
   "outputs": [],
   "source": [
    "dict_three = {\n",
    "    'value': 33\n",
    "}\n",
    "    \n",
    "dict_two = dict_three"
   ]
  },
  {
   "cell_type": "code",
   "execution_count": 12,
   "metadata": {},
   "outputs": [],
   "source": [
    "dict_one = dict_two"
   ]
  },
  {
   "cell_type": "markdown",
   "metadata": {},
   "source": [
    "Now, all three dictionary variables are pointing to the same dictionary in memory, `{'value': 33}`. The previous dictionary `{'value': 22}` don't have anymore variables pointing to it. Python will remove that in memory to save space through the process of **garbage collection**."
   ]
  },
  {
   "cell_type": "markdown",
   "metadata": {},
   "source": [
    "#### **End. Thank you!**"
   ]
  }
 ],
 "metadata": {
  "kernelspec": {
   "display_name": "Python 3",
   "language": "python",
   "name": "python3"
  },
  "language_info": {
   "codemirror_mode": {
    "name": "ipython",
    "version": 3
   },
   "file_extension": ".py",
   "mimetype": "text/x-python",
   "name": "python",
   "nbconvert_exporter": "python",
   "pygments_lexer": "ipython3",
   "version": "3.9.13"
  },
  "orig_nbformat": 4
 },
 "nbformat": 4,
 "nbformat_minor": 2
}
