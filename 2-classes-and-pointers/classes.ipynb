{
 "cells": [
  {
   "cell_type": "markdown",
   "metadata": {},
   "source": [
    "#### **Class**"
   ]
  },
  {
   "cell_type": "code",
   "execution_count": 3,
   "metadata": {},
   "outputs": [],
   "source": [
    "class Cookie:\n",
    "    def __init__(self, color):\n",
    "        self.color = color\n",
    "\n",
    "    def get_color(self):\n",
    "        return self.color\n",
    "    \n",
    "    def set_color(self, color):\n",
    "        self.color = color\n",
    "\n",
    "    def __repr__(self) -> str:\n",
    "        return f\"I am Cookie {self.color}\""
   ]
  },
  {
   "cell_type": "code",
   "execution_count": 6,
   "metadata": {},
   "outputs": [
    {
     "name": "stdout",
     "output_type": "stream",
     "text": [
      "Cookie one is: green\n",
      "Cookie two is: blue\n",
      "Cookie One is: I am Cookie magenta\n",
      "Cookie Two is: I am Cookie blue\n"
     ]
    }
   ],
   "source": [
    "cookie_one = Cookie(color='green')\n",
    "cookie_two = Cookie(color='blue')\n",
    "\n",
    "print(f\"Cookie one is: {cookie_one.get_color()}\")\n",
    "print(f\"Cookie two is: {cookie_two.get_color()}\")\n",
    "\n",
    "cookie_one.set_color(color='magenta')\n",
    "\n",
    "print(f\"Cookie One is: {cookie_one}\")\n",
    "print(f\"Cookie Two is: {cookie_two}\")"
   ]
  },
  {
   "cell_type": "markdown",
   "metadata": {},
   "source": [
    "#### **End. Thank you!**"
   ]
  }
 ],
 "metadata": {
  "kernelspec": {
   "display_name": "Python 3",
   "language": "python",
   "name": "python3"
  },
  "language_info": {
   "codemirror_mode": {
    "name": "ipython",
    "version": 3
   },
   "file_extension": ".py",
   "mimetype": "text/x-python",
   "name": "python",
   "nbconvert_exporter": "python",
   "pygments_lexer": "ipython3",
   "version": "3.9.13"
  },
  "orig_nbformat": 4
 },
 "nbformat": 4,
 "nbformat_minor": 2
}
