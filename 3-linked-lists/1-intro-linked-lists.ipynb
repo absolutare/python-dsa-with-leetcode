{
 "cells": [
  {
   "cell_type": "markdown",
   "metadata": {},
   "source": [
    "#### **Linked Lists**"
   ]
  },
  {
   "cell_type": "markdown",
   "metadata": {},
   "source": [
    "It **does not** have indices.\n",
    "\n",
    "With a list, all of its elements are in a contiguous place in memory, they are all next to each other. But with a linked list, all of the nodes are spread all over memory.\n",
    "\n",
    "With a linked list:\n",
    "- there's a variable called **head**, which points to the first node in the linked list\n",
    "- a variable called **tail**, which points to the last node in the linked list.\n",
    "- each node points to the next node, while the last node points to *None*\n",
    "\n",
    "![linked-list.png](./images/linked-list.png)"
   ]
  }
 ],
 "metadata": {
  "kernelspec": {
   "display_name": "Python 3",
   "language": "python",
   "name": "python3"
  },
  "language_info": {
   "name": "python",
   "version": "3.9.13"
  },
  "orig_nbformat": 4
 },
 "nbformat": 4,
 "nbformat_minor": 2
}
