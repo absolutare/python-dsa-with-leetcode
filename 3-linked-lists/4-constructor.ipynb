{
 "cells": [
  {
   "cell_type": "code",
   "execution_count": 60,
   "metadata": {},
   "outputs": [],
   "source": [
    "class Node:\n",
    "    def __init__(self, value=None):\n",
    "        self.value = value\n",
    "        self.next = None"
   ]
  },
  {
   "cell_type": "code",
   "execution_count": 61,
   "metadata": {},
   "outputs": [],
   "source": [
    "class LinkedList:\n",
    "    def __init__(self, value=None):\n",
    "        # initialize LinkedList and create a Node\n",
    "        new_node = Node(value)\n",
    "        if new_node.value is not None:\n",
    "            self.head = new_node\n",
    "            self.tail = new_node\n",
    "            self.length = 1\n",
    "        else:\n",
    "            self.length = 0\n",
    "\n",
    "    def append(self, value):\n",
    "        # create a Node\n",
    "        # add the Node at the end\n",
    "        pass\n",
    "\n",
    "    def prepend(self, value):\n",
    "        # create a Node\n",
    "        # add the Node at the beginning\n",
    "        pass\n",
    "\n",
    "    def insert(self, index, value):\n",
    "        # create a Node\n",
    "        # insert Node at specified index\n",
    "        pass"
   ]
  },
  {
   "cell_type": "code",
   "execution_count": 62,
   "metadata": {},
   "outputs": [],
   "source": [
    "my_linked_list = LinkedList(4)"
   ]
  },
  {
   "cell_type": "markdown",
   "metadata": {},
   "source": [
    "![my-linked-list.png](./images/my-linked-list.png)"
   ]
  },
  {
   "cell_type": "code",
   "execution_count": 63,
   "metadata": {},
   "outputs": [
    {
     "name": "stdout",
     "output_type": "stream",
     "text": [
      "4\n",
      "1\n"
     ]
    }
   ],
   "source": [
    "print(my_linked_list.head.value)\n",
    "print(my_linked_list.length)"
   ]
  },
  {
   "cell_type": "code",
   "execution_count": 64,
   "metadata": {},
   "outputs": [],
   "source": [
    "my_linked_list = LinkedList()\n",
    "# "
   ]
  },
  {
   "cell_type": "code",
   "execution_count": 65,
   "metadata": {},
   "outputs": [
    {
     "name": "stdout",
     "output_type": "stream",
     "text": [
      "0\n"
     ]
    }
   ],
   "source": [
    "print(my_linked_list.length)"
   ]
  },
  {
   "cell_type": "code",
   "execution_count": null,
   "metadata": {},
   "outputs": [],
   "source": []
  }
 ],
 "metadata": {
  "kernelspec": {
   "display_name": "Python 3",
   "language": "python",
   "name": "python3"
  },
  "language_info": {
   "codemirror_mode": {
    "name": "ipython",
    "version": 3
   },
   "file_extension": ".py",
   "mimetype": "text/x-python",
   "name": "python",
   "nbconvert_exporter": "python",
   "pygments_lexer": "ipython3",
   "version": "3.9.13"
  },
  "orig_nbformat": 4
 },
 "nbformat": 4,
 "nbformat_minor": 2
}
