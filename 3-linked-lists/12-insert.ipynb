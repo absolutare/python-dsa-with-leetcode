{
 "cells": [
  {
   "cell_type": "code",
   "execution_count": 58,
   "metadata": {},
   "outputs": [],
   "source": [
    "class Node:\n",
    "    def __init__(self, value):\n",
    "        self.value = value\n",
    "        self.next = None"
   ]
  },
  {
   "cell_type": "code",
   "execution_count": 59,
   "metadata": {},
   "outputs": [],
   "source": [
    "class LinkedList:\n",
    "    def __init__(self, value=None):\n",
    "        # initialize LinkedList and create a Node\n",
    "        new_node = Node(value)\n",
    "        if new_node.value is not None:\n",
    "            self.head = new_node\n",
    "            self.tail = new_node\n",
    "            self.length = 1\n",
    "        else:\n",
    "            self.length = 0\n",
    "\n",
    "    def print_list(self):\n",
    "        temp = self.head\n",
    "        while temp is not None:\n",
    "            print(temp.value)\n",
    "            temp = temp.next\n",
    "\n",
    "    def append(self, value):  # O(1)\n",
    "        new_node = Node(value)\n",
    "        if self.head is None:\n",
    "            # if LinkedList is empty\n",
    "            self.head = new_node\n",
    "            self.tail = new_node\n",
    "        else:\n",
    "            self.tail.next = new_node\n",
    "            self.tail = new_node\n",
    "        self.length += 1\n",
    "        return True\n",
    "\n",
    "    def pop(self):  # O(n)\n",
    "        # we check if there is no item in the LinkedList\n",
    "        if self.length == 0:\n",
    "            return None\n",
    "        # if there is more than one item in the LinkedList\n",
    "        temp = self.head\n",
    "        pre = self.head\n",
    "        while temp.next:\n",
    "            pre = temp\n",
    "            temp = temp.next\n",
    "        self.tail = pre\n",
    "        self.tail.next = None\n",
    "        self.length -= 1\n",
    "        # if there is originally just one item and we already decremented, the length is now 0\n",
    "        if self.length == 0:\n",
    "            self.head = None\n",
    "            self.tail = None\n",
    "        print(temp.value)\n",
    "        return temp  # the popped LinkedList item at the end\n",
    "\n",
    "    def prepend(self, value):  # O(1)\n",
    "        new_node = Node(value)\n",
    "        if self.length == 0:  # check first if linkedlist is empty\n",
    "            self.head = new_node\n",
    "            self.tail = new_node\n",
    "        else:\n",
    "            new_node.next = self.head\n",
    "            self.head = new_node\n",
    "        self.length += 1\n",
    "        return True\n",
    "\n",
    "    def pop_first(self):  # O(1)\n",
    "        if self.length == 0:  # check first if linkedlist is empty\n",
    "            return None\n",
    "\n",
    "        temp = self.head\n",
    "        self.head = self.head.next\n",
    "        temp.next = None\n",
    "        self.length -= 1\n",
    "        # if there is originally just one item and we already decremented, the length is now 0\n",
    "        if self.length == 0:\n",
    "            self.tail = None  # set it to None because it is the only one remaining pointing to the item\n",
    "        print(temp.value)\n",
    "        return temp  # the popped LinkedList item at the beginning\n",
    "\n",
    "    def get(self, index):\n",
    "        if index >= self.length:  # check if index is out of bounds\n",
    "            return None\n",
    "        elif (\n",
    "            index > 0 and index < self.length\n",
    "        ):  # check if index is greater than 0 but less than self.length\n",
    "            temp = self.head\n",
    "            for _ in range(index):\n",
    "                temp = temp.next\n",
    "        else:  # if index is less than 0, (index) = length + index where index is negative\n",
    "            negative_index = self.length + index\n",
    "            if negative_index < 0:\n",
    "                return None\n",
    "            else:\n",
    "                temp = self.head\n",
    "                for _ in range(negative_index):\n",
    "                    temp = temp.next\n",
    "        return temp.value\n",
    "\n",
    "    def set_value(self, index, value):\n",
    "        if index >= self.length:  # check if index is out of bounds\n",
    "            raise \"index out of bounds\"\n",
    "        elif (\n",
    "            index > 0 and index < self.length\n",
    "        ):  # check if index is greater than 0 but less than self.length\n",
    "            temp = self.head\n",
    "            for _ in range(index):\n",
    "                temp = temp.next\n",
    "        else:  # if index is less than 0\n",
    "            negative_index = self.length + index\n",
    "            temp = self.head\n",
    "            for _ in range(negative_index):\n",
    "                temp = temp.next\n",
    "        temp.value = value\n",
    "\n",
    "        self.print_list()\n",
    "\n",
    "    def insert(self, index, value):\n",
    "        if index >= self.length:\n",
    "            return False\n",
    "        elif index >= 0 and index < self.length:\n",
    "            \n",
    "            if index == 0:\n",
    "                return self.prepend(value)\n",
    "            \"\"\"\n",
    "            if index == self.length:\n",
    "                return self.append(value)\n",
    "            \"\"\"\n",
    "            new_node = Node(value)\n",
    "            temp = self.head\n",
    "            # get the preceding node before the specified index\n",
    "            for _ in range(index - 1):\n",
    "                temp = temp.next\n",
    "            new_node.next = temp.next\n",
    "            temp.next = new_node\n",
    "            self.length += 1\n",
    "            return True\n",
    "        else:\n",
    "            negative_index = self.length + index\n",
    "            if negative_index < 0:\n",
    "                raise IndexError(\"Index out of bounds\")\n",
    "            else:\n",
    "                new_node = Node(value)\n",
    "                temp = self.head\n",
    "                for _ in range(negative_index):\n",
    "                    temp = temp.next\n",
    "            new_node.next = temp.next\n",
    "            temp.next = new_node\n",
    "            self.length += 1\n",
    "            return True"
   ]
  },
  {
   "cell_type": "code",
   "execution_count": 60,
   "metadata": {},
   "outputs": [
    {
     "name": "stdout",
     "output_type": "stream",
     "text": [
      "0\n",
      "2\n"
     ]
    }
   ],
   "source": [
    "my_linked_list = LinkedList(0)\n",
    "my_linked_list.append(2)\n",
    "my_linked_list.print_list()"
   ]
  },
  {
   "cell_type": "code",
   "execution_count": 61,
   "metadata": {},
   "outputs": [
    {
     "name": "stdout",
     "output_type": "stream",
     "text": [
      "0\n",
      "1\n",
      "2\n"
     ]
    }
   ],
   "source": [
    "my_linked_list.insert(1, 1)\n",
    "my_linked_list.print_list()"
   ]
  },
  {
   "cell_type": "code",
   "execution_count": 62,
   "metadata": {},
   "outputs": [
    {
     "name": "stdout",
     "output_type": "stream",
     "text": [
      "200\n",
      "0\n",
      "1\n",
      "2\n"
     ]
    }
   ],
   "source": [
    "my_linked_list.insert(0, 200)\n",
    "my_linked_list.print_list()"
   ]
  },
  {
   "cell_type": "code",
   "execution_count": 63,
   "metadata": {},
   "outputs": [
    {
     "name": "stdout",
     "output_type": "stream",
     "text": [
      "200\n",
      "3\n",
      "0\n",
      "1\n",
      "2\n"
     ]
    }
   ],
   "source": [
    "my_linked_list.insert(1, 3)\n",
    "my_linked_list.print_list()"
   ]
  },
  {
   "cell_type": "code",
   "execution_count": 64,
   "metadata": {},
   "outputs": [
    {
     "name": "stdout",
     "output_type": "stream",
     "text": [
      "200\n",
      "3\n",
      "0\n",
      "1\n",
      "2\n",
      "3\n"
     ]
    }
   ],
   "source": [
    "my_linked_list.insert(-1, 3)\n",
    "my_linked_list.print_list()"
   ]
  },
  {
   "cell_type": "code",
   "execution_count": 65,
   "metadata": {},
   "outputs": [
    {
     "name": "stdout",
     "output_type": "stream",
     "text": [
      "200\n",
      "3\n",
      "0\n",
      "1\n",
      "2\n",
      "3\n",
      "4\n"
     ]
    }
   ],
   "source": [
    "my_linked_list.insert(-1, 4)\n",
    "my_linked_list.print_list()"
   ]
  },
  {
   "cell_type": "code",
   "execution_count": 66,
   "metadata": {},
   "outputs": [
    {
     "name": "stdout",
     "output_type": "stream",
     "text": [
      "200\n",
      "3\n",
      "0\n",
      "1\n",
      "2\n",
      "3\n",
      "3.5\n",
      "4\n"
     ]
    }
   ],
   "source": [
    "my_linked_list.insert(-2, 3.5)\n",
    "my_linked_list.print_list()"
   ]
  },
  {
   "cell_type": "code",
   "execution_count": 67,
   "metadata": {},
   "outputs": [
    {
     "data": {
      "text/plain": [
       "8"
      ]
     },
     "execution_count": 67,
     "metadata": {},
     "output_type": "execute_result"
    }
   ],
   "source": [
    "my_linked_list.length"
   ]
  },
  {
   "cell_type": "code",
   "execution_count": 68,
   "metadata": {},
   "outputs": [
    {
     "name": "stdout",
     "output_type": "stream",
     "text": [
      "200\n",
      "3\n",
      "0\n",
      "1\n",
      "2\n",
      "3\n",
      "3.5\n",
      "300\n",
      "4\n"
     ]
    }
   ],
   "source": [
    "my_linked_list.insert(7, 300)\n",
    "my_linked_list.print_list()"
   ]
  },
  {
   "cell_type": "code",
   "execution_count": 69,
   "metadata": {},
   "outputs": [
    {
     "name": "stdout",
     "output_type": "stream",
     "text": [
      "200\n",
      "3\n",
      "0\n",
      "100\n",
      "1\n",
      "2\n",
      "3\n",
      "3.5\n",
      "300\n",
      "4\n"
     ]
    }
   ],
   "source": [
    "my_linked_list.insert(-7, 100)\n",
    "my_linked_list.print_list()"
   ]
  },
  {
   "cell_type": "code",
   "execution_count": 70,
   "metadata": {},
   "outputs": [],
   "source": [
    "# my_linked_list.insert(-10, -1)\n",
    "# my_linked_list.print_list()"
   ]
  },
  {
   "cell_type": "code",
   "execution_count": 83,
   "metadata": {},
   "outputs": [
    {
     "data": {
      "text/plain": [
       "[1, 'apple', 2, 3, 4]"
      ]
     },
     "execution_count": 83,
     "metadata": {},
     "output_type": "execute_result"
    }
   ],
   "source": [
    "f = [1,2,3,4]\n",
    "f.insert(1,\"apple\")\n",
    "f"
   ]
  },
  {
   "cell_type": "code",
   "execution_count": 84,
   "metadata": {},
   "outputs": [
    {
     "data": {
      "text/plain": [
       "['banana', 1, 'apple', 2, 3, 4]"
      ]
     },
     "execution_count": 84,
     "metadata": {},
     "output_type": "execute_result"
    }
   ],
   "source": [
    "f.insert(-7,\"banana\")\n",
    "f"
   ]
  },
  {
   "cell_type": "code",
   "execution_count": 85,
   "metadata": {},
   "outputs": [
    {
     "data": {
      "text/plain": [
       "['banana', 1, 'apple', 2, 3, 4, 'cocoa']"
      ]
     },
     "execution_count": 85,
     "metadata": {},
     "output_type": "execute_result"
    }
   ],
   "source": [
    "f.insert(10,\"cocoa\")\n",
    "f"
   ]
  },
  {
   "cell_type": "code",
   "execution_count": null,
   "metadata": {},
   "outputs": [],
   "source": []
  }
 ],
 "metadata": {
  "kernelspec": {
   "display_name": "Python 3",
   "language": "python",
   "name": "python3"
  },
  "language_info": {
   "codemirror_mode": {
    "name": "ipython",
    "version": 3
   },
   "file_extension": ".py",
   "mimetype": "text/x-python",
   "name": "python",
   "nbconvert_exporter": "python",
   "pygments_lexer": "ipython3",
   "version": "3.9.13"
  },
  "orig_nbformat": 4
 },
 "nbformat": 4,
 "nbformat_minor": 2
}
